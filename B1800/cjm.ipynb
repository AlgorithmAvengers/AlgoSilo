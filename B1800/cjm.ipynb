{
 "cells": [
  {
   "cell_type": "code",
   "execution_count": 2,
   "metadata": {},
   "outputs": [
    {
     "data": {
      "text/plain": [
       "'\\n5 7 1\\n1 2 5\\n3 1 4\\n2 4 8\\n3 2 3\\n5 2 9\\n3 4 7\\n4 5 6\\n'"
      ]
     },
     "execution_count": 2,
     "metadata": {},
     "output_type": "execute_result"
    }
   ],
   "source": [
    "'''\n",
    "5 7 1\n",
    "1 2 5\n",
    "3 1 4\n",
    "2 4 8\n",
    "3 2 3\n",
    "5 2 9\n",
    "3 4 7\n",
    "4 5 6\n",
    "'''"
   ]
  },
  {
   "cell_type": "code",
   "execution_count": null,
   "metadata": {},
   "outputs": [],
   "source": [
    "target, total, discount = list(map(int,input().split(' ')))\n",
    "distance = [float(\"-inf\")] * (total+1)\n",
    "price = [float(\"-inf\")] * (total+1)\n",
    "top_discount = []\n",
    "\n",
    "distance[1] = 0\n",
    "\n",
    "for i in range(total):\n",
    "    start, end, price = list(map(int,input().split(' ')))\n",
    "    if distance[start] "
   ]
  }
 ],
 "metadata": {
  "kernelspec": {
   "display_name": "base",
   "language": "python",
   "name": "python3"
  },
  "language_info": {
   "codemirror_mode": {
    "name": "ipython",
    "version": 3
   },
   "file_extension": ".py",
   "mimetype": "text/x-python",
   "name": "python",
   "nbconvert_exporter": "python",
   "pygments_lexer": "ipython3",
   "version": "3.9.13"
  },
  "orig_nbformat": 4
 },
 "nbformat": 4,
 "nbformat_minor": 2
}
