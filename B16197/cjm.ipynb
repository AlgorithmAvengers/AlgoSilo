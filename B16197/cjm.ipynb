{
 "cells": [
  {
   "cell_type": "code",
   "execution_count": null,
   "metadata": {},
   "outputs": [],
   "source": [
    "# 1 2\n",
    "# oo  -> 1\n",
    "\n",
    "'''\n",
    "6 2\n",
    ".#\n",
    ".#\n",
    ".#\n",
    "o#\n",
    "o#\n",
    "##\n",
    "                -> 4\n",
    "''' \n"
   ]
  },
  {
   "cell_type": "code",
   "execution_count": 1,
   "metadata": {},
   "outputs": [],
   "source": [
    "row, col = input().split()"
   ]
  },
  {
   "cell_type": "code",
   "execution_count": 9,
   "metadata": {},
   "outputs": [],
   "source": [
    "row = int(row)\n",
    "col = int(col)"
   ]
  },
  {
   "cell_type": "code",
   "execution_count": 10,
   "metadata": {},
   "outputs": [],
   "source": []
  },
  {
   "cell_type": "code",
   "execution_count": 18,
   "metadata": {},
   "outputs": [],
   "source": [
    "row, col = input().split()\n",
    "\n",
    "row = int(row)\n",
    "col = int(col)\n",
    "\n",
    "base = [[0 for x in range(col)] for _ in range(row)]\n",
    "\n",
    "coin_place = []\n",
    "\n",
    "for i in range(row):\n",
    "    temp = input()\n",
    "    for j in range(col):\n",
    "        if temp[j] == 'o':\n",
    "            coin_place.append([i,j])\n",
    "        base[i][j] = temp[j]\n",
    "    "
   ]
  },
  {
   "cell_type": "code",
   "execution_count": 19,
   "metadata": {},
   "outputs": [
    {
     "data": {
      "text/plain": [
       "[['.', '#'], ['.', '#'], ['.', '#'], ['o', '#'], ['o', '#'], ['#', '#']]"
      ]
     },
     "execution_count": 19,
     "metadata": {},
     "output_type": "execute_result"
    }
   ],
   "source": [
    "base"
   ]
  },
  {
   "cell_type": "code",
   "execution_count": 20,
   "metadata": {},
   "outputs": [
    {
     "data": {
      "text/plain": [
       "[[3, 0], [4, 0]]"
      ]
     },
     "execution_count": 20,
     "metadata": {},
     "output_type": "execute_result"
    }
   ],
   "source": [
    "coin_place"
   ]
  },
  {
   "cell_type": "code",
   "execution_count": 28,
   "metadata": {},
   "outputs": [],
   "source": [
    "direction = [[[[''] for _ in range(4)] for _ in range(col)] for _ in range(row)]\n"
   ]
  },
  {
   "cell_type": "code",
   "execution_count": 29,
   "metadata": {},
   "outputs": [
    {
     "data": {
      "text/plain": [
       "[[[[''], [''], [''], ['']], [[''], [''], [''], ['']]],\n",
       " [[[''], [''], [''], ['']], [[''], [''], [''], ['']]],\n",
       " [[[''], [''], [''], ['']], [[''], [''], [''], ['']]],\n",
       " [[[''], [''], [''], ['']], [[''], [''], [''], ['']]],\n",
       " [[[''], [''], [''], ['']], [[''], [''], [''], ['']]],\n",
       " [[[''], [''], [''], ['']], [[''], [''], [''], ['']]]]"
      ]
     },
     "execution_count": 29,
     "metadata": {},
     "output_type": "execute_result"
    }
   ],
   "source": [
    "direction"
   ]
  },
  {
   "cell_type": "code",
   "execution_count": 30,
   "metadata": {},
   "outputs": [
    {
     "data": {
      "text/plain": [
       "[[3, 0], [4, 0]]"
      ]
     },
     "execution_count": 30,
     "metadata": {},
     "output_type": "execute_result"
    }
   ],
   "source": [
    "coin_place"
   ]
  },
  {
   "cell_type": "code",
   "execution_count": 33,
   "metadata": {},
   "outputs": [],
   "source": [
    "direction = [[[[''] for _ in range(4)] for _ in range(col)] for _ in range(row)]\n"
   ]
  },
  {
   "cell_type": "code",
   "execution_count": 36,
   "metadata": {},
   "outputs": [
    {
     "data": {
      "text/plain": [
       "[[[[''], [''], [''], ['']], [[''], [''], [''], ['']]],\n",
       " [[[''], [''], [''], ['']], [[''], [''], [''], ['']]],\n",
       " [[True, [''], [''], ['']], [[''], [''], [''], ['']]],\n",
       " [[True, True, [''], ['']], [[''], [''], [''], ['']]],\n",
       " [[[''], True, [''], ['']], [[''], [''], [''], ['']]],\n",
       " [[[''], [''], [''], ['']], [[''], [''], [''], ['']]]]"
      ]
     },
     "execution_count": 36,
     "metadata": {},
     "output_type": "execute_result"
    }
   ],
   "source": [
    "direction"
   ]
  },
  {
   "cell_type": "code",
   "execution_count": 34,
   "metadata": {},
   "outputs": [],
   "source": [
    "def move(coin_place):\n",
    "    first_row = coin_place[0][0]\n",
    "    first_col = coin_place[0][1]\n",
    "    second_row = coin_place[1][0]\n",
    "    second_col = coin_place[1][1]\n",
    "    if base[first_row+1][first_col] != \"#\" and  base[second_row+1][second_col] != \"#\":\n",
    "        direction[coin_place[0][0]][coin_place[0][1]][0] = True\n",
    "        direction[coin_place[1][0]][coin_place[1][1]][0] = True\n",
    "        coin_place_temp = [[first_row+1, first_col], [second_row+1, second_col]]\n",
    "        move(coin_place_temp)\n",
    "\n",
    "    elif base[first_row-1][first_col] != \"#\" and  base[second_row-1][second_col] != \"#\":\n",
    "        direction[coin_place[0][0]][coin_place[0][1]][1] = True\n",
    "        direction[coin_place[1][0]][coin_place[1][1]][1] = True\n",
    "        coin_place_temp = [[first_row-1, first_col], [second_row-1, second_col]]\n",
    "        move(coin_place_temp)\n",
    "\n",
    "\n",
    "\n",
    "    elif base[first_row][first_col+1] != \"#\" and  base[second_row][second_col+1] != \"#\":\n",
    "        direction[coin_place[0][0]][coin_place[0][1]][2] = True\n",
    "        direction[coin_place[1][0]][coin_place[1][1]][2] = True\n",
    "        coin_place_temp = [[first_row, first_col+1], [second_row, second_col+1]]\n",
    "        move(coin_place_temp)\n",
    "\n",
    "\n",
    "    elif base[first_row][first_col-1] != \"#\" and  base[second_row][second_col-1] != \"#\":\n",
    "        direction[coin_place[0][0]][coin_place[0][1]][3] = True\n",
    "        direction[coin_place[1][0]][coin_place[1][1]][3] = True\n",
    "        coin_place_temp = [[first_row, first_col-1], [second_row, second_col-1]]\n",
    "        move(coin_place_temp)\n",
    "\n"
   ]
  },
  {
   "cell_type": "code",
   "execution_count": 35,
   "metadata": {},
   "outputs": [
    {
     "ename": "RecursionError",
     "evalue": "maximum recursion depth exceeded in comparison",
     "output_type": "error",
     "traceback": [
      "\u001b[0;31m---------------------------------------------------------------------------\u001b[0m",
      "\u001b[0;31mRecursionError\u001b[0m                            Traceback (most recent call last)",
      "\u001b[0;32m/var/folders/pj/jkhj8nvj2p5cq8bfyc5pp2tm0000gn/T/ipykernel_50428/1018677283.py\u001b[0m in \u001b[0;36m<module>\u001b[0;34m\u001b[0m\n\u001b[0;32m----> 1\u001b[0;31m \u001b[0mmove\u001b[0m\u001b[0;34m(\u001b[0m\u001b[0mcoin_place\u001b[0m\u001b[0;34m)\u001b[0m\u001b[0;34m\u001b[0m\u001b[0;34m\u001b[0m\u001b[0m\n\u001b[0m",
      "\u001b[0;32m/var/folders/pj/jkhj8nvj2p5cq8bfyc5pp2tm0000gn/T/ipykernel_50428/3406430668.py\u001b[0m in \u001b[0;36mmove\u001b[0;34m(coin_place)\u001b[0m\n\u001b[1;32m     14\u001b[0m         \u001b[0mdirection\u001b[0m\u001b[0;34m[\u001b[0m\u001b[0mcoin_place\u001b[0m\u001b[0;34m[\u001b[0m\u001b[0;36m1\u001b[0m\u001b[0;34m]\u001b[0m\u001b[0;34m[\u001b[0m\u001b[0;36m0\u001b[0m\u001b[0;34m]\u001b[0m\u001b[0;34m]\u001b[0m\u001b[0;34m[\u001b[0m\u001b[0mcoin_place\u001b[0m\u001b[0;34m[\u001b[0m\u001b[0;36m1\u001b[0m\u001b[0;34m]\u001b[0m\u001b[0;34m[\u001b[0m\u001b[0;36m1\u001b[0m\u001b[0;34m]\u001b[0m\u001b[0;34m]\u001b[0m\u001b[0;34m[\u001b[0m\u001b[0;36m1\u001b[0m\u001b[0;34m]\u001b[0m \u001b[0;34m=\u001b[0m \u001b[0;32mTrue\u001b[0m\u001b[0;34m\u001b[0m\u001b[0;34m\u001b[0m\u001b[0m\n\u001b[1;32m     15\u001b[0m         \u001b[0mcoin_place_temp\u001b[0m \u001b[0;34m=\u001b[0m \u001b[0;34m[\u001b[0m\u001b[0;34m[\u001b[0m\u001b[0mfirst_row\u001b[0m\u001b[0;34m-\u001b[0m\u001b[0;36m1\u001b[0m\u001b[0;34m,\u001b[0m \u001b[0mfirst_col\u001b[0m\u001b[0;34m]\u001b[0m\u001b[0;34m,\u001b[0m \u001b[0;34m[\u001b[0m\u001b[0msecond_row\u001b[0m\u001b[0;34m-\u001b[0m\u001b[0;36m1\u001b[0m\u001b[0;34m,\u001b[0m \u001b[0msecond_col\u001b[0m\u001b[0;34m]\u001b[0m\u001b[0;34m]\u001b[0m\u001b[0;34m\u001b[0m\u001b[0;34m\u001b[0m\u001b[0m\n\u001b[0;32m---> 16\u001b[0;31m         \u001b[0mmove\u001b[0m\u001b[0;34m(\u001b[0m\u001b[0mcoin_place_temp\u001b[0m\u001b[0;34m)\u001b[0m\u001b[0;34m\u001b[0m\u001b[0;34m\u001b[0m\u001b[0m\n\u001b[0m\u001b[1;32m     17\u001b[0m \u001b[0;34m\u001b[0m\u001b[0m\n\u001b[1;32m     18\u001b[0m \u001b[0;34m\u001b[0m\u001b[0m\n",
      "\u001b[0;32m/var/folders/pj/jkhj8nvj2p5cq8bfyc5pp2tm0000gn/T/ipykernel_50428/3406430668.py\u001b[0m in \u001b[0;36mmove\u001b[0;34m(coin_place)\u001b[0m\n\u001b[1;32m      8\u001b[0m         \u001b[0mdirection\u001b[0m\u001b[0;34m[\u001b[0m\u001b[0mcoin_place\u001b[0m\u001b[0;34m[\u001b[0m\u001b[0;36m1\u001b[0m\u001b[0;34m]\u001b[0m\u001b[0;34m[\u001b[0m\u001b[0;36m0\u001b[0m\u001b[0;34m]\u001b[0m\u001b[0;34m]\u001b[0m\u001b[0;34m[\u001b[0m\u001b[0mcoin_place\u001b[0m\u001b[0;34m[\u001b[0m\u001b[0;36m1\u001b[0m\u001b[0;34m]\u001b[0m\u001b[0;34m[\u001b[0m\u001b[0;36m1\u001b[0m\u001b[0;34m]\u001b[0m\u001b[0;34m]\u001b[0m\u001b[0;34m[\u001b[0m\u001b[0;36m0\u001b[0m\u001b[0;34m]\u001b[0m \u001b[0;34m=\u001b[0m \u001b[0;32mTrue\u001b[0m\u001b[0;34m\u001b[0m\u001b[0;34m\u001b[0m\u001b[0m\n\u001b[1;32m      9\u001b[0m         \u001b[0mcoin_place_temp\u001b[0m \u001b[0;34m=\u001b[0m \u001b[0;34m[\u001b[0m\u001b[0;34m[\u001b[0m\u001b[0mfirst_row\u001b[0m\u001b[0;34m+\u001b[0m\u001b[0;36m1\u001b[0m\u001b[0;34m,\u001b[0m \u001b[0mfirst_col\u001b[0m\u001b[0;34m]\u001b[0m\u001b[0;34m,\u001b[0m \u001b[0;34m[\u001b[0m\u001b[0msecond_row\u001b[0m\u001b[0;34m+\u001b[0m\u001b[0;36m1\u001b[0m\u001b[0;34m,\u001b[0m \u001b[0msecond_col\u001b[0m\u001b[0;34m]\u001b[0m\u001b[0;34m]\u001b[0m\u001b[0;34m\u001b[0m\u001b[0;34m\u001b[0m\u001b[0m\n\u001b[0;32m---> 10\u001b[0;31m         \u001b[0mmove\u001b[0m\u001b[0;34m(\u001b[0m\u001b[0mcoin_place_temp\u001b[0m\u001b[0;34m)\u001b[0m\u001b[0;34m\u001b[0m\u001b[0;34m\u001b[0m\u001b[0m\n\u001b[0m\u001b[1;32m     11\u001b[0m \u001b[0;34m\u001b[0m\u001b[0m\n\u001b[1;32m     12\u001b[0m     \u001b[0;32melif\u001b[0m \u001b[0mbase\u001b[0m\u001b[0;34m[\u001b[0m\u001b[0mfirst_row\u001b[0m\u001b[0;34m-\u001b[0m\u001b[0;36m1\u001b[0m\u001b[0;34m]\u001b[0m\u001b[0;34m[\u001b[0m\u001b[0mfirst_col\u001b[0m\u001b[0;34m]\u001b[0m \u001b[0;34m!=\u001b[0m \u001b[0;34m\"#\"\u001b[0m \u001b[0;32mand\u001b[0m  \u001b[0mbase\u001b[0m\u001b[0;34m[\u001b[0m\u001b[0msecond_row\u001b[0m\u001b[0;34m-\u001b[0m\u001b[0;36m1\u001b[0m\u001b[0;34m]\u001b[0m\u001b[0;34m[\u001b[0m\u001b[0msecond_col\u001b[0m\u001b[0;34m]\u001b[0m \u001b[0;34m!=\u001b[0m \u001b[0;34m\"#\"\u001b[0m\u001b[0;34m:\u001b[0m\u001b[0;34m\u001b[0m\u001b[0;34m\u001b[0m\u001b[0m\n",
      "... last 2 frames repeated, from the frame below ...\n",
      "\u001b[0;32m/var/folders/pj/jkhj8nvj2p5cq8bfyc5pp2tm0000gn/T/ipykernel_50428/3406430668.py\u001b[0m in \u001b[0;36mmove\u001b[0;34m(coin_place)\u001b[0m\n\u001b[1;32m     14\u001b[0m         \u001b[0mdirection\u001b[0m\u001b[0;34m[\u001b[0m\u001b[0mcoin_place\u001b[0m\u001b[0;34m[\u001b[0m\u001b[0;36m1\u001b[0m\u001b[0;34m]\u001b[0m\u001b[0;34m[\u001b[0m\u001b[0;36m0\u001b[0m\u001b[0;34m]\u001b[0m\u001b[0;34m]\u001b[0m\u001b[0;34m[\u001b[0m\u001b[0mcoin_place\u001b[0m\u001b[0;34m[\u001b[0m\u001b[0;36m1\u001b[0m\u001b[0;34m]\u001b[0m\u001b[0;34m[\u001b[0m\u001b[0;36m1\u001b[0m\u001b[0;34m]\u001b[0m\u001b[0;34m]\u001b[0m\u001b[0;34m[\u001b[0m\u001b[0;36m1\u001b[0m\u001b[0;34m]\u001b[0m \u001b[0;34m=\u001b[0m \u001b[0;32mTrue\u001b[0m\u001b[0;34m\u001b[0m\u001b[0;34m\u001b[0m\u001b[0m\n\u001b[1;32m     15\u001b[0m         \u001b[0mcoin_place_temp\u001b[0m \u001b[0;34m=\u001b[0m \u001b[0;34m[\u001b[0m\u001b[0;34m[\u001b[0m\u001b[0mfirst_row\u001b[0m\u001b[0;34m-\u001b[0m\u001b[0;36m1\u001b[0m\u001b[0;34m,\u001b[0m \u001b[0mfirst_col\u001b[0m\u001b[0;34m]\u001b[0m\u001b[0;34m,\u001b[0m \u001b[0;34m[\u001b[0m\u001b[0msecond_row\u001b[0m\u001b[0;34m-\u001b[0m\u001b[0;36m1\u001b[0m\u001b[0;34m,\u001b[0m \u001b[0msecond_col\u001b[0m\u001b[0;34m]\u001b[0m\u001b[0;34m]\u001b[0m\u001b[0;34m\u001b[0m\u001b[0;34m\u001b[0m\u001b[0m\n\u001b[0;32m---> 16\u001b[0;31m         \u001b[0mmove\u001b[0m\u001b[0;34m(\u001b[0m\u001b[0mcoin_place_temp\u001b[0m\u001b[0;34m)\u001b[0m\u001b[0;34m\u001b[0m\u001b[0;34m\u001b[0m\u001b[0m\n\u001b[0m\u001b[1;32m     17\u001b[0m \u001b[0;34m\u001b[0m\u001b[0m\n\u001b[1;32m     18\u001b[0m \u001b[0;34m\u001b[0m\u001b[0m\n",
      "\u001b[0;31mRecursionError\u001b[0m: maximum recursion depth exceeded in comparison"
     ]
    }
   ],
   "source": [
    "move(coin_place)"
   ]
  },
  {
   "cell_type": "code",
   "execution_count": 17,
   "metadata": {},
   "outputs": [
    {
     "data": {
      "text/plain": [
       "[(3, 0), (4, 0)]"
      ]
     },
     "execution_count": 17,
     "metadata": {},
     "output_type": "execute_result"
    }
   ],
   "source": [
    "while True:\n",
    "    if base[coin_place[0][0]+1][coin_place[0][1]]"
   ]
  }
 ],
 "metadata": {
  "kernelspec": {
   "display_name": "base",
   "language": "python",
   "name": "python3"
  },
  "language_info": {
   "codemirror_mode": {
    "name": "ipython",
    "version": 3
   },
   "file_extension": ".py",
   "mimetype": "text/x-python",
   "name": "python",
   "nbconvert_exporter": "python",
   "pygments_lexer": "ipython3",
   "version": "3.9.13"
  },
  "orig_nbformat": 4
 },
 "nbformat": 4,
 "nbformat_minor": 2
}
